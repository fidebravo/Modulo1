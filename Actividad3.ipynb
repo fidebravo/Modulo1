{
 "cells": [
  {
   "cell_type": "markdown",
   "id": "4f85cf3e-6aa4-4e27-a710-0b86e5664d24",
   "metadata": {},
   "source": [
    "# Actividad 3"
   ]
  },
  {
   "cell_type": "markdown",
   "id": "0ce2daf3-a80f-4079-89f6-ec20de62eb1b",
   "metadata": {},
   "source": [
    "## 1.- Dada la lista L = [“almacenar”, 8, “a”, [1,2,3], True, (0,0,1), 85.7]\r"
   ]
  },
  {
   "cell_type": "markdown",
   "id": "9df6d025-abf5-48c1-8e57-0b5634d8fdf4",
   "metadata": {},
   "source": [
    "*a. ¿Cuál de estos elementos pertenece a la lista? (Escoja segun corresponda.  Debe comentarlo en su script)*\r"
   ]
  },
  {
   "cell_type": "markdown",
   "id": "40b3b1d8-86a0-4a6f-a174-beee92bed73b",
   "metadata": {},
   "source": [
    "<img src=\"tabla1.jpg\">"
   ]
  },
  {
   "cell_type": "code",
   "execution_count": null,
   "id": "beeb42ac-e17c-4bc4-9269-ed007797f9ea",
   "metadata": {},
   "outputs": [],
   "source": [
    "# Crea Lista 'L'\n",
    "L = ['almacenar', 8, 'a', [1,2,3], True, (0,0,1), 85.7]\n",
    "\n",
    "# Crea lista con valores de la tabla para comparar\n",
    "tabla = [85.7, True, [(0,0,1)], [1,2,3], 0, [True], 85, \"a\"]\n",
    "\n",
    "# Crea bucle for que itera sobre los elementos de la tabla y los busca en la lista L.  Solo imprime los elementos que si están en la lista\n",
    "for i in tabla:\n",
    "    if i in L:\n",
    "        print(i, ' si pertenece a la lista L')\n",
    "    else:\n",
    "        continue\n",
    "\n"
   ]
  },
  {
   "cell_type": "markdown",
   "id": "81184c0b-39e3-46d8-a8ba-d8f3c3655cd4",
   "metadata": {},
   "source": [
    "<img src=\"Tabla.jpg\">"
   ]
  },
  {
   "cell_type": "markdown",
   "id": "af83179a-7a44-4f5f-9cb0-36ef1d59b98d",
   "metadata": {},
   "source": [
    "*b. ¿Cómo obtener la posición en que se encuentra el elemento (0,0,1)? (Cree la lista y entregue la ubicación del elemento)*\r"
   ]
  },
  {
   "cell_type": "code",
   "execution_count": null,
   "id": "39da30cb-3110-43df-a432-5d5ac0f485d3",
   "metadata": {},
   "outputs": [],
   "source": [
    "# Para buscar la posición del elemento (0,0,1) usamos el metodo index()\n",
    "\n",
    "# Crea variable indice para buscar la posición de (0,0,1) en la lista\n",
    "indice = L.index((0,0,1))\n",
    "\n",
    "# Imprime el resultado indicando la posición de la tupla en la lista L\n",
    "print('El indice del elemento (0,0,1) es ', indice,'.  Esto significa que su posición desde el inicio de la lista es el', indice + 1,'º puesto')\n"
   ]
  },
  {
   "cell_type": "markdown",
   "id": "40f1969a-07ef-4907-93b1-5acd22cbb852",
   "metadata": {},
   "source": [
    "*c. ¿Cómo eliminar el último elemento, independientemente de cuantos elementos haya en la lista?*\n",
    "    *(Use la función adecuada en su lista)*\n",
    "a)"
   ]
  },
  {
   "cell_type": "code",
   "execution_count": null,
   "id": "b68d5f7e-c08d-44d0-8c99-cdcbdafca6c1",
   "metadata": {},
   "outputs": [],
   "source": [
    "# Para eliminar el último elemento de la lista usamos el método .pop()\n",
    "\n",
    "print('La lista antes de borrar el ultimo elemento es: ', L)\n",
    "\n",
    "ultimo_elemento = L.pop()\n",
    "\n",
    "print('El ultimo elemento de la lista era: ', ultimo_elemento)\n",
    "print('La lista luego de borrar el último elemento queda: ', L)\n",
    "\n"
   ]
  },
  {
   "cell_type": "markdown",
   "id": "98957185-c7bf-4934-ba79-48d99fc8b63c",
   "metadata": {},
   "source": [
    "*d. Utilizar una operación para contar cuántas veces aparece el string \"a\".  Use una función que entrega la cantidad exacta.*\r"
   ]
  },
  {
   "cell_type": "code",
   "execution_count": null,
   "id": "61e0315f-173f-4093-b2f1-9d71244327be",
   "metadata": {},
   "outputs": [],
   "source": [
    "# Crea Lista 'L'\n",
    "L = ['almacenar', 8, 'a', [1,2,3], True, (0,0,1), 85.7]\n",
    "\n",
    "# Para contar la cantidad exacta de veces que se encuentra el string 'a' en la lista usamos el método count() pasando como argumento\n",
    "# del metodo la string 'a'\n",
    "\n",
    "concurrencia_en_lista = L.count('a')\n",
    "\n",
    "# Imprimimos la respuesta\n",
    "print('La cantidad de veces que se encuentra \"a\" en la lista es ', concurrencia_en_lista)\n",
    "\n"
   ]
  },
  {
   "cell_type": "markdown",
   "id": "5c105e2f-dcf5-4210-93cc-2b24810b3f6b",
   "metadata": {},
   "source": [
    "## 2. Escribir un programa que pida al usuario una palabra y muestre en pantalla si es un palíndromo"
   ]
  },
  {
   "cell_type": "code",
   "execution_count": null,
   "id": "efe5da10-252f-4822-bf84-405054c5d569",
   "metadata": {},
   "outputs": [],
   "source": [
    "# Crea función que evalúa si una palabra ingresada es palíndromo\n",
    "\n",
    "def palindromo(cadena):\n",
    "\n",
    "    # Invierte la cadena ingresada\n",
    "    cadena_invertida = cadena[::-1]\n",
    "\n",
    "    # Bloque condicional que evalúa si la palabra es palíndromo\n",
    "    # Utiliza método lower() para transformar todas las letras en minúsculas y poder realizar la comparación correctamente\n",
    "    if cadena.lower() == cadena_invertida.lower():\n",
    "        print('      ', cadena, '=' ,cadena_invertida)\n",
    "        print(cadena, 'si es palíndromo pues se lee igual hacia la derecha e izquierda')\n",
    "        \n",
    "    else:\n",
    "        print('      ', cadena, '!=', cadena_invertida)\n",
    "        print(cadena, 'no es un palíndromo')\n",
    "        \n",
    "\n",
    "# Lineas de código con bienvenida y \n",
    "print('Bienvenido al programa de evaluación de palíndromos.')\n",
    "print('´´' * 30)\n",
    "cadena = input('Ingrese una palabra por favor: ')\n",
    "\n",
    "palindromo(cadena)\n",
    "\n"
   ]
  },
  {
   "cell_type": "markdown",
   "id": "859dd597-94f0-4bf0-9d72-41e24647e934",
   "metadata": {},
   "source": [
    "## 3. Escriba un programa que almacene en una lista los números del 1 al 10 y los muestre por pantalla en orden inverso separados por comas."
   ]
  },
  {
   "cell_type": "code",
   "execution_count": null,
   "id": "f57b9c60-45c0-4f10-8803-8cd309cbcb62",
   "metadata": {},
   "outputs": [],
   "source": [
    "# Crea variable lista_numeros con list() y range() para obtnener los datos solicitados\n",
    "lista_numeros = list(range(1, 11))\n",
    "\n",
    "# Crea variable lista_invertida para invertir el orden de los elementos de la lista\n",
    "lista_invertida = lista_numeros[::-1]\n",
    "\n",
    "# Imprime en pantalla el resultado\n",
    "print(lista_invertida)\n",
    "\n"
   ]
  },
  {
   "cell_type": "markdown",
   "id": "fe6906a8-10b3-42ff-b7a1-bcab5a9fb17b",
   "metadata": {},
   "source": [
    "## 4. Escribir un programa que almacene las asignaturas de un curso (por ejemplo Matemáticas, Física, Química, Historia y Lengua) en una lista.  Pregunte al usuario la nota que sacado en cada asignatura, y despues las muestre por pantalla con el mensaje En *asignatura* has sacado *nota* donde *asignatura* es cada una de las asignaturas de la lista y *nota* cada una de las correspondientes notas introducidas por el usuariosuario"
   ]
  },
  {
   "cell_type": "code",
   "execution_count": null,
   "id": "a4109a6d-8166-4960-ad52-340fd8237b03",
   "metadata": {},
   "outputs": [],
   "source": [
    "# Crea una lista con las asignaturas y lista vacía para ir almacenando las notas que serán preguntadas al usuario\n",
    "asignaturas = [\"Matemáticas\", \"Física\", \"Química\", \"Historia\", \"Lengua\"]\n",
    "notas = []\n",
    "\n",
    "# Crea bucle for que itera sobre la lista asignatura y en cada iteración pregunta la nota de la asignatura\n",
    "for asignatura in asignaturas:\n",
    "    \n",
    "    nota = float(input(f\"Ingrese la nota de {asignatura}: \"))\n",
    "\n",
    "    # Agrega la nota digitada a la lista notas\n",
    "    notas.append(nota)\n",
    "\n",
    "print('´´' * 30)\n",
    "\n",
    "# Crea bucle for que itera la cantidad de veces igual al largo de la list asignaturas\n",
    "for i in range(len(asignaturas)):\n",
    "\n",
    "    # Imprime los resultados de las notas de cada asignatura según lo ingresado por el usuario\n",
    "    print(f\"En {asignaturas[i]} has sacado {notas[i]}\")\n",
    "\n"
   ]
  },
  {
   "cell_type": "markdown",
   "id": "8ebf19aa-ab53-4e2f-b3e4-113012658690",
   "metadata": {},
   "source": [
    "## 5. Escriba un programa que almacene las matrices:"
   ]
  },
  {
   "cell_type": "markdown",
   "id": "68b7fbf4-da6d-4418-8575-475731ab24de",
   "metadata": {},
   "source": [
    "<img src=\"matricesAB.jpg\">"
   ]
  },
  {
   "cell_type": "markdown",
   "id": "9dae5671-bc3f-479a-8306-d81a2ca5e6c7",
   "metadata": {},
   "source": [
    "## en una lista y muestre en pantalla su producto.\n",
    "\n",
    "**Nota: Para representar matrices mediante listas usar *listas anidadas*, representando cada vector en una fila**"
   ]
  },
  {
   "cell_type": "code",
   "execution_count": null,
   "id": "0a2829f7-dd8c-403a-8e5c-ce64e1b30c3b",
   "metadata": {},
   "outputs": [],
   "source": [
    "# Define las matrices\n",
    "A = [[1, 2, 3],\n",
    "     [4, 5, 6]]\n",
    "\n",
    "B = [[-1, 0],\n",
    "     [0, 1],\n",
    "     [1, 1]]\n",
    "\n",
    "# Inicializar la matriz resultante C con ceros de tamaño 2x2\n",
    "C = [[0 for _ in range(len(B[0]))] for _ in range(len(A))]\n",
    "\n",
    "# Multiplicar matrices A y B\n",
    "# Iterar sobre las filas de A\n",
    "for i in range(len(A)):\n",
    "\n",
    "    # Iterar sobre las columnas de B\n",
    "    for j in range(len(B[0])):\n",
    "\n",
    "        # Iterar sobre las filas de B\n",
    "        for k in range(len(B)):\n",
    "\n",
    "            # Suma los productos de los elementos correspondientes\n",
    "            C[i][j] += A[i][k] * B[k][j]\n",
    "\n",
    "#Imprime lista C\n",
    "print(C)\n",
    "\n",
    "print('´´' * 20)\n",
    "\n",
    "print('El resultado en forma de matriz es:')\n",
    "#Crea bucle for que itera las filas de C e imprime fila\n",
    "for fila in C:\n",
    "    print(fila)\n",
    "\n"
   ]
  },
  {
   "cell_type": "markdown",
   "id": "263aa61d-aaa8-4e2c-be5d-2ba5f5dc4e4c",
   "metadata": {},
   "source": [
    "## 6. Escribir un programa que guarde en una variable el diccionario {'Euro': '€', 'Dollar': '$', 'Yen': '¥'}, pregunte al usuario por una divisa y muestre su simbolo o mensaje de aviso si la divisa no está en el diccionariorio"
   ]
  },
  {
   "cell_type": "code",
   "execution_count": null,
   "id": "e5ed12ad-bfe8-46dc-8a5c-30e3eec312d4",
   "metadata": {},
   "outputs": [],
   "source": [
    "# Crea diccionario divisas para almacenar las divisas disponibles\n",
    "divisas = {'Euro': '€', 'Dollar': '$', 'Yen': '¥'}\n",
    "\n",
    "# Crea variable booleana para controlar el correcto ingreso de la divisa\n",
    "divisa_valida = False\n",
    "\n",
    "# Bucle while para solicitar la divisa hasta que sea válida\n",
    "while not divisa_valida:\n",
    "    # Solicita al usuario el ingreso de una divisa\n",
    "    divisa = input(\"Elija una de las siguientes divisas.  Euro, Dollar o Yen: \")\n",
    "\n",
    "    # Crea bloque condicional que evalúa si la divisa ingresada se encuentra en el diccionario\n",
    "    if divisa in divisas:\n",
    "\n",
    "        # Cambia la condicion False de divisa válida para salir del bucle y continuar con el programa\n",
    "        divisa_valida = True\n",
    "\n",
    "    # Imprime mensaje de advertencia y vuelve al inicio del bucle hasta que se haga el ingreso correctamente\n",
    "    else:\n",
    "        print(\"La divisa\", divisa, \"no está en el diccionario. Intente nuevamente.\")\n",
    "\n",
    "# Imprime mensaje con el nombre de la divisa y su símbolo\n",
    "print(\"El símbolo de\", divisa, \"es\", divisas[divisa])\n",
    "\n"
   ]
  },
  {
   "cell_type": "markdown",
   "id": "839f0d42-116d-421d-b900-de884a349320",
   "metadata": {},
   "source": [
    "## 7. Escribir un programa que pregunte una fecha en formato dd/mm/aaa y muestre por pantalla la misma fecha en formato dd de *mes* de aaa, donde *mes* es el nombre del meses"
   ]
  },
  {
   "cell_type": "code",
   "execution_count": null,
   "id": "0db9e111-043a-423c-a25d-562d46259551",
   "metadata": {},
   "outputs": [],
   "source": [
    "# Del módulo datetime importamos datetime para conversion de fechas\n",
    "from datetime import datetime\n",
    "\n",
    "# Crea diccionario con clave:valor numero_mes:nombre_mes para uso en programa\n",
    "nombres_meses = {\n",
    "    1: 'enero', 2: 'febrero', 3: 'marzo', 4: 'abril',\n",
    "    5: 'mayo', 6: 'junio', 7: 'julio', 8: 'agosto',\n",
    "    9: 'septiembre', 10: 'octubre', 11: 'noviembre', 12: 'diciembre'\n",
    "}\n",
    "\n",
    "# Crea variable booleana para controlar el correcto ingreso de la fecha\n",
    "fecha_valida = False\n",
    "\n",
    "# Crea Bucle while para solicitar la fecha hasta que sea válida\n",
    "while not fecha_valida:\n",
    "    \n",
    "    # Solicitar al usuario una fecha en formato dd/mm/aaaa\n",
    "    fecha_str = input(\"Ingrese una fecha en formato dd/mm/aaaa: \")\n",
    "\n",
    "    # Crea bloque para manejo de excepciones en el ingreso de la fecha en el formato correcto\n",
    "    try:\n",
    "        # Convierte la cadena de fecha a un objeto datetime\n",
    "        fecha = datetime.strptime(fecha_str, '%d/%m/%Y')\n",
    "\n",
    "        # Cambia el valor de la variable booleana si es que el ingreso ha sido correcto para salir del bucle\n",
    "        fecha_valida = True\n",
    "\n",
    "    # En caso de que la fecha no pueda ser convertida por módulo datetime imprime mensaje de advertencia y vuele a consultar\n",
    "    except ValueError:\n",
    "        print(\"El formato de fecha ingresado es incorrecto. Intente nuevamente.\")\n",
    "\n",
    "# Crea variables dia, mes, anno, extrayendo informacion de la variable fecha y usando métodos del módulo datetime\n",
    "dia = fecha.day\n",
    "mes = nombres_meses[fecha.month]\n",
    "anno = fecha.year\n",
    "\n",
    "# Imprimir la fecha en el formato deseado\n",
    "print(f\"{dia} de {mes} de {anno}\")\n",
    "\n"
   ]
  }
 ],
 "metadata": {
  "kernelspec": {
   "display_name": "Python 3 (ipykernel)",
   "language": "python",
   "name": "python3"
  },
  "language_info": {
   "codemirror_mode": {
    "name": "ipython",
    "version": 3
   },
   "file_extension": ".py",
   "mimetype": "text/x-python",
   "name": "python",
   "nbconvert_exporter": "python",
   "pygments_lexer": "ipython3",
   "version": "3.11.7"
  }
 },
 "nbformat": 4,
 "nbformat_minor": 5
}
