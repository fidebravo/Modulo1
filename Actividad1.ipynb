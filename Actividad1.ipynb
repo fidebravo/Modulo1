{
 "cells": [
  {
   "cell_type": "markdown",
   "id": "2c1471cc-0c26-4ac8-b836-2ee7bd0c5ab5",
   "metadata": {},
   "source": [
    "# Actividad 1"
   ]
  },
  {
   "cell_type": "markdown",
   "id": "20744585-5f70-47e2-b70a-cf89f2a0b7cc",
   "metadata": {},
   "source": [
    "**1.D.- Crearemos nuestro primer programa Python… “Hola Mundo”.**\r\n"
   ]
  },
  {
   "cell_type": "code",
   "execution_count": null,
   "id": "0466f618-43f2-414c-9f41-009b3decdda2",
   "metadata": {},
   "outputs": [],
   "source": [
    "print('Hola Mundo!')"
   ]
  },
  {
   "cell_type": "markdown",
   "id": "c6db573b-f7c6-4a08-a3ad-a6dbe3dfcd4e",
   "metadata": {},
   "source": [
    "**2. Reconocer las características de Python**"
   ]
  },
  {
   "cell_type": "markdown",
   "id": "6bf986d2-bffe-4123-a952-844767b80505",
   "metadata": {},
   "source": [
    "*a. ¿Qué significa que Python sea un lenguaje de propósito general?*\n",
    "\n",
    "Se dice que Python es un lenguaje de propósito general pues tiene utilidad para una gran cantidad de propósitos como por ejemplo:  Desarrollo web, Análisis de Datos, Ciencia de Datos, Aplicaciones, Automatización, procesamiento de textos, entre otros.  Esto debido a que sus procedimientos, instrucciones y estructuras de datos están diseñados para resolver casi cualquier problema.\n",
    "\n",
    "*b. ¿Qué significa que Python sea un lenguaje interpretado?*\n",
    "\n",
    "Python es un lenguaje intrepretado pues su código no se escribe directamente de manera que la máquina lo pueda interpretar en tiempo de ejecución.  Este tipo de lenguaje también es conocido como lenguaje de scripting pues inicialmente fue desarrollado para proyectos sencillos.\n",
    "\n",
    "*c. ¿Qué es el tipado dinámico?*\n",
    "\n",
    "Implica que cuando creamos una variable no es necesario declarar su tipo de dato como en otros lenguajes.  De cierta manera Python interpreta los datos en el contexto que se usa cuando se ejecuta el programa.\n",
    "\n",
    "."
   ]
  },
  {
   "cell_type": "markdown",
   "id": "b26b370a-fc7d-4add-8d9f-bfee95fba3d2",
   "metadata": {},
   "source": [
    "**3. Dado el siguiente código, identifique el tipo de variable de cada expresión**"
   ]
  },
  {
   "cell_type": "code",
   "execution_count": null,
   "id": "c4218f89-832f-4eaf-8fd3-4153d6a915c6",
   "metadata": {},
   "outputs": [],
   "source": [
    "edad = \"10\"\n",
    "costo = 10\n",
    "dias = ['lunes', 'martes', 'miércoles', 'jueves', 'viernes', 'sábado', 'domingo']\n",
    "\n",
    "print('El tipo de dato de la variable \"edad\" es ', type(edad))\n",
    "print('El tipo de dato de la variable \"costo\" es ', type(costo))\n",
    "print('El tipo de dato de la variable \"dias\" es ', type(dias))\n",
    "\n"
   ]
  },
  {
   "cell_type": "markdown",
   "id": "97866912-9d27-4e19-b222-61ea518107d1",
   "metadata": {},
   "source": [
    "**4. Crear un programa que defina expresamente una variable de tipo texto llamada “varTexto” y asignarle el valor “Hola que tal”, muéstrela en pantalla a través de un print que diga “El valor de la variable es:”. Hacer lo mismo con una variable de tipo numérica llamada “varNumero”, Cuál es la diferencia?**"
   ]
  },
  {
   "cell_type": "markdown",
   "id": "75c0ad68-aacd-4b11-8138-8ff6d5f1ac2c",
   "metadata": {},
   "source": [
    "Comentario:  No entiendo el objetivo del ejercicio.  Entiendo que una es una *string* y que la otra es *integer* pero de la manera en que he instruído la impresión en pantalla la diferencia solo radica en el valor de las variables"
   ]
  },
  {
   "cell_type": "code",
   "execution_count": null,
   "id": "9c2e6b3f-06d9-48e4-8717-f115e7de4612",
   "metadata": {},
   "outputs": [],
   "source": [
    "varTexto = \"Hola que tal\"\n",
    "print(\"El valor de la variable es: \", varTexto)\n",
    "\n",
    "varNumero = 44\n",
    "print(\"El valor de la variable es: \", varNumero)\n",
    "\n"
   ]
  },
  {
   "cell_type": "markdown",
   "id": "5e22b1b0-e6a9-4f05-804d-c289195680f6",
   "metadata": {},
   "source": [
    "**5. Crear un programa que lea el nombre, el apellido y el año de nacimiento \n",
    "de una persona, y entregue el mensaje**\n",
    "\"“Hey nombre apellido, tu edad es\r",
    " años!\"”."
   ]
  },
  {
   "cell_type": "code",
   "execution_count": null,
   "id": "75baae7f-6257-4fb0-a71b-45224a56a5f8",
   "metadata": {},
   "outputs": [],
   "source": [
    "nombre = 'Carlos'\n",
    "apellido = 'Donoso'\n",
    "edad = 40\n",
    "\n",
    "print(f\"Hey {nombre} {apellido}, tu edad es {edad} años!\")\n",
    "\n"
   ]
  },
  {
   "cell_type": "code",
   "execution_count": null,
   "id": "500c71a6-60d2-474b-ad0f-813c1a163e05",
   "metadata": {},
   "outputs": [],
   "source": []
  }
 ],
 "metadata": {
  "kernelspec": {
   "display_name": "Python 3 (ipykernel)",
   "language": "python",
   "name": "python3"
  },
  "language_info": {
   "codemirror_mode": {
    "name": "ipython",
    "version": 3
   },
   "file_extension": ".py",
   "mimetype": "text/x-python",
   "name": "python",
   "nbconvert_exporter": "python",
   "pygments_lexer": "ipython3",
   "version": "3.11.7"
  }
 },
 "nbformat": 4,
 "nbformat_minor": 5
}
