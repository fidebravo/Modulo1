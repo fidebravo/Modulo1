{
 "cells": [
  {
   "cell_type": "markdown",
   "id": "b62da9af-509b-4afa-86f8-0ef5beb59139",
   "metadata": {},
   "source": [
    "# Actividad 2"
   ]
  },
  {
   "cell_type": "markdown",
   "id": "ca14a7b5-388c-4e7f-a250-d7b2dfc258ae",
   "metadata": {},
   "source": [
    "### 1.- Crear un programa que pida el ingreso de un número y que evalúe si el número ingresado es par o impar"
   ]
  },
  {
   "cell_type": "code",
   "execution_count": null,
   "id": "a4428eed-2add-4a8b-9001-b31e177403e4",
   "metadata": {},
   "outputs": [],
   "source": [
    "# Crea variable número para solicitar mediante \"int(input(' '))\" el ingreso de un número\n",
    "numero = int(input(\"Introduce un número entero positivo por favor: \"))\n",
    "\n",
    "# Crea bucle while para evaluar si el número ingresado cumple con ser positivo y entero.  En caso de no cumplir se vuelve a solicitar ingreso de número\n",
    "while numero < 1:\n",
    "\n",
    "    print('El número no cumple con ser positivo entero')\n",
    "    numero = int(input(\"Introduce un número entero positivo por favor: \"))\n",
    "\n",
    "else:    \n",
    "    # Crea bloque condicional que evalúa si el número es par mediante operación de modulo remanente (%)\n",
    "    if numero % 2 == 0:\n",
    "        print(\"El número ingresado es par\")\n",
    "    else:\n",
    "        print(\"El número ingresado es impar\")\n",
    "\n",
    "print('El programa ha finalizado')\n"
   ]
  },
  {
   "cell_type": "markdown",
   "id": "7a910900-a016-42c0-aaac-68fee952dd67",
   "metadata": {},
   "source": [
    "### 2.- Crea algoritmo de operación matemática básica entre dos números"
   ]
  },
  {
   "cell_type": "code",
   "execution_count": null,
   "id": "3cd5dc25-0c8d-4ebb-9f7a-a1cf0537eeac",
   "metadata": {},
   "outputs": [],
   "source": [
    "# Líneas para imprimir un título o enunciado\n",
    "print(\"Máquina de operaciones matemáticas entre dos números\")\n",
    "print(\"-\"*50)\n",
    "\n",
    "# Crea variables para el ingreso de dos número enteros mediante método 'int(input(''))\n",
    "n1 = int(input(\"Ingrese un número entero por favor: \"))\n",
    "n2 = int(input(\"Ingrese otro número entero por favor: \"))\n",
    "\n",
    "# Imprime linea punteada de 50 guiones para separar visualmente la solicitud de variables\n",
    "print(\"-\"*50)\n",
    "\n",
    "# Imprime consulta sobre la operación matemática a realizar\n",
    "print(\"Que operación desea ejecutar:'suma, resta, multiplica, divide'\")\n",
    "\n",
    "# Crea variable de texto mediante método input() para ingresar la operación matemática a elegir\n",
    "operacion = input()\n",
    "\n",
    "# Crea bloque condicional que permite construir una expresion con las variables 'n1' y 'n2' y evaluar el resultado, se usa '.lower()' para evitar errores\n",
    "if operacion.lower() == \"suma\":\n",
    "    print(n1, ' + ', n2, ' = ', n1 + n2)\n",
    "elif operacion.lower() == \"resta\":    \n",
    "    print(n1, ' - ', n2, ' = ', n1 - n2)\n",
    "elif operacion.lower() == \"multiplica\":    \n",
    "    print(n1, ' * ', n2, ' = ', n1 * n2)\n",
    "elif operacion.lower() == \"divide\":\n",
    "    print(n1, ' / ', n2, ' = ', n1 / n2)\n",
    "else:\n",
    "    print(\"No se ha ingresado correctamente el nombre de la operación.\")\n",
    "\n",
    "print(\"Programa finalizado\")\n"
   ]
  },
  {
   "cell_type": "markdown",
   "id": "0edbdb50-0ac3-4af1-8a8a-01fd5327893d",
   "metadata": {},
   "source": [
    "### 3.- Código que solicita números indicando si son pares o impares.  Se detiene cuando se ingresa el 0"
   ]
  },
  {
   "cell_type": "code",
   "execution_count": null,
   "id": "eba6ae12-faf8-4693-a56d-5def0dd45bd7",
   "metadata": {},
   "outputs": [],
   "source": [
    "# Crea variable 'numero' que pide el ingreso de un número a través de método 'int(input())'\n",
    "numero = int(input(\"Ingrese un número positivo entero por favor: \"))\n",
    "\n",
    "# Crea bloque de control de flujo 'bucle while' para mantener realizando la pregunta hasta que se cumpla la condición\n",
    "while numero != 0:\n",
    "\n",
    "    # Crea bloque condicional que evalúa si el número ingresado es positivo entero\n",
    "    if numero >= 1:\n",
    "        # Crea bloque condicional que evalúa si el valor de la variable numero es par o impar\n",
    "        if numero % 2 == 0:\n",
    "            print(\"El número ingresado es par\")\n",
    "        else:\n",
    "            print(\"El número ingresado es impar\")\n",
    "    \n",
    "        # Imprime línea de separación\n",
    "        print('-'*50)\n",
    "                \n",
    "        # variable numero para el nuevo ingreso de valor y que el bucle while siga evaluando la condición\n",
    "        numero = int(input(\"Ingrese otro número por favor: \"))\n",
    "\n",
    "    # Instrucción para corregir el ingreso del número cuando no es positivo entero\n",
    "    else:\n",
    "        print('El número no cumple con ser positivo entero')\n",
    "        numero = int(input(\"Introduce un número entero positivo por favor: \"))\n",
    "\n",
    "\n",
    "# Imprime línea de separación\n",
    "print('-'*50)\n",
    "# Línea que indica la detención del programa cuando se ha cumplido la condición.\n",
    "print(\"*** Usted ha ingresado el 0.  El programa se ha detenido ***\")\n",
    "\n"
   ]
  },
  {
   "cell_type": "markdown",
   "id": "a5130136-d8e1-42e7-b8bd-1ad858cc58a5",
   "metadata": {},
   "source": [
    "### 4.- Crear un programa dibuje un rectángulo con el símbolo “*”. La anchura y altura deben ser indicadas por el usuario."
   ]
  },
  {
   "cell_type": "code",
   "execution_count": null,
   "id": "009e270a-3efb-4e75-b4d8-52c791ef90f4",
   "metadata": {},
   "outputs": [],
   "source": [
    "# Crea variables para obtener las dimensiones del rectángulo por función 'int(input())'\n",
    "ancho = int(input('Ingrese el número de caracteres para el ancho del rectángulo: '))\n",
    "alto = int(input('Ingrese el número de caracteres para el alto del rectángulo: '))\n",
    "\n",
    "# Crea instrucciones para la impresión de los carácteres que dibujarán el rectángulo\n",
    "# Usamos 'bucle for' y función 'range' de variable 'alto' para iterar e imprimir el rectángulo\n",
    "for i in range(alto):\n",
    "\n",
    "    # Crea bloque condicional que evalúa si la iteración va en la primera o última fila del rango de ancho e imprime\n",
    "    if i == 0 or i == alto - 1:\n",
    "        print('*' * ancho)\n",
    "    else:\n",
    "        print('*' + ' ' * (ancho - 2) + '*')\n",
    "\n"
   ]
  },
  {
   "cell_type": "markdown",
   "id": "b24567fb-cbf7-4b9f-9d58-dd67f7daad46",
   "metadata": {},
   "source": [
    "### 5.- Crea programa que solicita numero entero positivo y calcula su valor factorial"
   ]
  },
  {
   "cell_type": "code",
   "execution_count": null,
   "id": "c3e243fb-60cb-4780-9184-4c43fb4a3ece",
   "metadata": {},
   "outputs": [],
   "source": [
    "# Crea variable 'numero' para solicitar el ingreso de un valor\n",
    "numero = int(input('Ingrese un número entero por favor: '))\n",
    "\n",
    "# Verifica si el número ingresado es positivo entero\n",
    "if numero > 0:\n",
    "\n",
    "    # Crea variable 'factorial' que se usará en el cálculo del valor\n",
    "    factorial = 1\n",
    "\n",
    "    # Crea iteración de rango 1 hasta el valor de la variable 'numero' + 1 para realizar el cálculo\n",
    "    for i in range(1, numero + 1):\n",
    "        # aumenta el valor de la variable 'factorial' mediante la multilpicación de la i \n",
    "        factorial *= i\n",
    "\n",
    "    # Imprime en pantalla el resultado del cálculo\n",
    "    print('El valor factorial de ', numero, ' es: ', factorial)\n",
    "\n",
    "# Completa bloque condicional indicando que el número ingresado no cumple con las condiciones para el cálculo\n",
    "else:\n",
    "    print('El numero ingresado debe ser entero mayor a 0, no se puede realizar la operación')\n",
    "\n",
    "# Imprime linea de separación e informa que el programa ha finalizado\n",
    "print('-' * 50)\n",
    "print('El programa ha finalizado')\n",
    "\n"
   ]
  },
  {
   "cell_type": "markdown",
   "id": "ceb1c802-5b93-4768-bd91-68d4df34e002",
   "metadata": {},
   "source": [
    "### 6.- Crea un programa que muestre la tabla de multiplicar de un número específico"
   ]
  },
  {
   "cell_type": "code",
   "execution_count": null,
   "id": "ae67b7ef-1703-4a8b-916f-067c2b832221",
   "metadata": {},
   "outputs": [],
   "source": [
    "# Crea enunciado para el programa\n",
    "print('Tablas de Multiplicar')\n",
    "print('-' * 50)\n",
    "\n",
    "# Solicita número para generar tabla mediante función 'int(input())'\n",
    "numero = int(input('Ingrese el número al cual desee generar tabla de multiplicar: '))\n",
    "\n",
    "# Líneas de código para impresión de formato con fin de ordenar el resultado\n",
    "print('-' * 50)\n",
    "print('La tabla del ' + str(numero))\n",
    "print('')\n",
    "\n",
    "# Crea 'bucle for' para iterar 16 veces iniciando desde el cero\n",
    "for i in range(16):\n",
    "\n",
    "    # Crea variable 'resultado' que, por iteración, obtiene el resultado de la multiplicación\n",
    "    resultado = i * numero\n",
    "    # Por cada iteración, se imprime el valor de la variable resultado\n",
    "    print(numero, ' x ', i, ' = ', resultado) \n",
    "\n",
    "# Líneas de código para impresión de formato con fin de ordenar el resultado\n",
    "print('-' * 50)\n",
    "print('El programa ha finalizado')\n",
    "\n"
   ]
  },
  {
   "cell_type": "code",
   "execution_count": null,
   "id": "f6f5b107-3f58-4f7a-803d-31f5ec0182ef",
   "metadata": {},
   "outputs": [],
   "source": []
  }
 ],
 "metadata": {
  "kernelspec": {
   "display_name": "Python 3 (ipykernel)",
   "language": "python",
   "name": "python3"
  },
  "language_info": {
   "codemirror_mode": {
    "name": "ipython",
    "version": 3
   },
   "file_extension": ".py",
   "mimetype": "text/x-python",
   "name": "python",
   "nbconvert_exporter": "python",
   "pygments_lexer": "ipython3",
   "version": "3.11.7"
  }
 },
 "nbformat": 4,
 "nbformat_minor": 5
}
