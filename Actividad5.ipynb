{
 "cells": [
  {
   "cell_type": "markdown",
   "id": "92edb4f2-2e79-4071-b403-148b4cbc36de",
   "metadata": {},
   "source": [
    "# Actividad 5"
   ]
  },
  {
   "cell_type": "markdown",
   "id": "36767266-b0e7-498c-862e-e49283c67941",
   "metadata": {},
   "source": [
    "1. Para el siguiente ejemplo, proporcione la(s) excepción(es) adecuada(s):"
   ]
  },
  {
   "cell_type": "markdown",
   "id": "b8f4af13-5170-4a2c-a7f5-95dea85d33c1",
   "metadata": {},
   "source": [
    "<img src=\"imagenactividad5.jpg\">"
   ]
  },
  {
   "cell_type": "code",
   "execution_count": null,
   "id": "5525d5f5-a4e5-4141-ac5a-2a1103d87d16",
   "metadata": {},
   "outputs": [],
   "source": [
    "# Crea variables\n",
    "a = 5\n",
    "b = 0\n",
    "\n",
    "# Bloque de manejo de excepciones para ZeroDivisionError ya que matemáticamente no se puede dividir por 0\n",
    "# Instruye al programa para que intente hacer la división de las variable e imprimir el resultado\n",
    "try:\n",
    "    c = a / b\n",
    "    print('a/b = %d' % c)\n",
    "\n",
    "# Especifica la excepción que debe capturar y manejar, entregando un mensaje que informa del error\n",
    "except ZeroDivisionError:\n",
    "    print(\"Error: División por cero no permitida.\")\n"
   ]
  },
  {
   "cell_type": "markdown",
   "id": "c9de4e68-1259-4092-abbb-e8dcff4fa88f",
   "metadata": {},
   "source": [
    "2. Con el ejercio anterior, cree un programa que le pida ingresar los valores al usuario"
   ]
  },
  {
   "cell_type": "code",
   "execution_count": null,
   "id": "65c05e6b-459e-4502-b9f1-2b7c3073a5f6",
   "metadata": {},
   "outputs": [],
   "source": [
    "# Comienza con bucle while que mantiene el programa corriendo hasta que se ejecute de manera correcta\n",
    "while True:\n",
    "\n",
    "    # Bloque de manejo de excepciones\n",
    "    # Instruye al programa a que intente a realizar una operación\n",
    "    try:\n",
    "        \n",
    "        # Solicita al usuario ingresar el valor de 'a'\n",
    "        a = float(input(\"Ingrese el valor de 'a': \"))\n",
    "\n",
    "        # Solicita al usuario ingresar el valor de 'b'\n",
    "        b = float(input(\"Ingrese el valor de 'b': \"))\n",
    "\n",
    "        # Crea expresion con variable 'c' que divide las variable creadas previamente\n",
    "        c = a / b\n",
    "\n",
    "        # Imprimir el resultado\n",
    "        print('a/b = %f' % c)\n",
    "\n",
    "        # Si se completa exitosamente, sale del bucle\n",
    "        break\n",
    "\n",
    "    # Se programan dos excepciones que a su vez imprimen el mensaje informativo al usuario y como está dentro de bucle, vuelve a pedir los datos\n",
    "    # para ejecutar el programa\n",
    "    except ZeroDivisionError:\n",
    "        print(\"Error: División por cero no permitida. Intente nuevamente.\")\n",
    "    except ValueError:\n",
    "        print(\"Error: Ingrese un número válido para 'a' y 'b'. Intente nuevamente.\")\n"
   ]
  },
  {
   "cell_type": "markdown",
   "id": "d27e7168-dcee-4a6a-b737-5d312008b8a3",
   "metadata": {},
   "source": [
    "3. Cree una función de interés simple, entregando una excepción si la tasa es superior a 100."
   ]
  },
  {
   "cell_type": "code",
   "execution_count": null,
   "id": "f9026fde-c517-42c6-9c7f-4ebb0f2df393",
   "metadata": {},
   "outputs": [],
   "source": [
    "# Crea función para cálculo de interés simple.  El atributo tiempo está considerado en años\n",
    "def calcular_interes_simple(monto, tasa, tiempo):\n",
    "\n",
    "    interes_simple = monto * tasa * tiempo / 100\n",
    "    return interes_simple\n",
    "\n",
    "# Crea bucle while para controlar el ingreso de un valor válido para la variable monto\n",
    "while True:\n",
    "\n",
    "    # Bloque de manejo excepciones en caso de errores de ingreso por tipo de datos\n",
    "    try:\n",
    "        monto = float(input(\"Ingrese el monto capital: \"))\n",
    "        \n",
    "        # Si el capital ingresado es válido sale del bucle\n",
    "        break\n",
    "\n",
    "    # Captura el error evitando que el programa caiga e informa con mensaje al usuario\n",
    "    except ValueError:\n",
    "        print(\"Error: Ingrese un valor numérico válido para el monto. Intente nuevamente.\")\n",
    "\n",
    "# Crea bucle while para controlar el ingreso de un valor válido para la variable tasa\n",
    "while True:\n",
    "\n",
    "    # Bloque de manejo excepciones en caso de errores de ingreso\n",
    "    try:\n",
    "        tasa = float(input(\"Ingrese la tasa (%): \"))\n",
    "        \n",
    "        # Bloque condicional que evalúa que el ingreso de la tasa sea menor a 100\n",
    "        if tasa > 100:\n",
    "            # Levanta una excepción del tipo ValueError si un valor superior a 100 es ingresado\n",
    "            raise ValueError(\"La tasa no puede ser superior a 100.\")\n",
    "\n",
    "        # Sale del bucle si el ingreso se ha realizado correctamente\n",
    "        break\n",
    "\n",
    "    # Líneas de captura de excepciones y mensajes de información sobre el error específico\n",
    "    except ValueError as e:\n",
    "        print(f\"Error: {e} Intente nuevamente.\")\n",
    "    except Exception:\n",
    "        print(\"Error: Ingrese un valor numérico válido para la tasa. Intente nuevamente.\")\n",
    "\n",
    "\n",
    "# Crea bucle while para controlar el ingreso de un valor válido para la variable tiempo\n",
    "while True:\n",
    "\n",
    "    # Bloque de manejo excepciones en caso de errores de ingreso\n",
    "    try:\n",
    "        tiempo = float(input(\"Ingrese el tiempo (en años): \"))\n",
    "\n",
    "        # Sale del bucle si el ingreso se ha realizado correctamente\n",
    "        break\n",
    "\n",
    "    # Captura el error evitando que el programa caiga e informa con mensaje al usuario\n",
    "    except ValueError:\n",
    "        print(\"Error: Ingrese un valor numérico válido para el tiempo. Intente nuevamente.\")\n",
    "\n",
    "\n",
    "# Líneas que incializan el programa e informan del resultado del interes simple anual\n",
    "interes = calcular_interes_simple(monto, tasa, tiempo)\n",
    "print('*' * 30)\n",
    "print(f\"El interés simple del periodo {tiempo} año(s) es: {interes}\")\n"
   ]
  },
  {
   "cell_type": "code",
   "execution_count": null,
   "id": "7bccad30-8e58-41df-899b-5a19b4d5680f",
   "metadata": {},
   "outputs": [],
   "source": []
  }
 ],
 "metadata": {
  "kernelspec": {
   "display_name": "Python 3 (ipykernel)",
   "language": "python",
   "name": "python3"
  },
  "language_info": {
   "codemirror_mode": {
    "name": "ipython",
    "version": 3
   },
   "file_extension": ".py",
   "mimetype": "text/x-python",
   "name": "python",
   "nbconvert_exporter": "python",
   "pygments_lexer": "ipython3",
   "version": "3.11.7"
  }
 },
 "nbformat": 4,
 "nbformat_minor": 5
}
