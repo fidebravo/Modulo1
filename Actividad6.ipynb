{
 "cells": [
  {
   "cell_type": "markdown",
   "id": "dffaa347-28bf-4d32-8790-ddf93e00fd8e",
   "metadata": {},
   "source": [
    "# Actividad 6"
   ]
  },
  {
   "cell_type": "markdown",
   "id": "57a71bfd-eac3-4acc-8fa9-cc53f7fe9ee6",
   "metadata": {},
   "source": [
    "Para cumplir con la subida de un archivo a la plataforma, se envía enlace a cuenta en Github.  Solo hay un repositorio publico."
   ]
  },
  {
   "cell_type": "markdown",
   "id": "b6050894-2082-4925-b3ca-819ba1f1b2fe",
   "metadata": {},
   "source": [
    "Si tengo instalado GIT en mi PC.  =)"
   ]
  },
  {
   "cell_type": "raw",
   "id": "f71a8d91-9f94-4219-b723-87e91c7ddf34",
   "metadata": {},
   "source": [
    "https://github.com/fidebravo"
   ]
  },
  {
   "cell_type": "code",
   "execution_count": null,
   "id": "30149478-6fae-4514-b5b2-9ecbe13120e5",
   "metadata": {},
   "outputs": [],
   "source": []
  }
 ],
 "metadata": {
  "kernelspec": {
   "display_name": "Python 3 (ipykernel)",
   "language": "python",
   "name": "python3"
  },
  "language_info": {
   "codemirror_mode": {
    "name": "ipython",
    "version": 3
   },
   "file_extension": ".py",
   "mimetype": "text/x-python",
   "name": "python",
   "nbconvert_exporter": "python",
   "pygments_lexer": "ipython3",
   "version": "3.11.7"
  }
 },
 "nbformat": 4,
 "nbformat_minor": 5
}
